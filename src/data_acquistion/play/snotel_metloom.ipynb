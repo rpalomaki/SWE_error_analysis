{
 "cells": [
  {
   "cell_type": "code",
   "execution_count": 1,
   "id": "26278b7c",
   "metadata": {},
   "outputs": [],
   "source": [
    "import pandas as pd\n",
    "import metloom\n",
    "from metloom.pointdata import SnotelPointData"
   ]
  },
  {
   "cell_type": "code",
   "execution_count": 4,
   "id": "b1e1f62a",
   "metadata": {},
   "outputs": [],
   "source": [
    "df = pd.read_csv('/Users/ropa5718/github/data_sandbox/swe_errors/snotel/fig4_sites.csv', index_col = 0)"
   ]
  },
  {
   "cell_type": "code",
   "execution_count": 5,
   "id": "c698b993",
   "metadata": {},
   "outputs": [
    {
     "name": "stdout",
     "output_type": "stream",
     "text": [
      "0\n",
      "1\n",
      "2\n",
      "3\n",
      "4\n",
      "5\n",
      "6\n",
      "7\n",
      "8\n",
      "9\n",
      "10\n",
      "11\n",
      "12\n"
     ]
    }
   ],
   "source": [
    "# swe_variable = pt.ALLOWED_VARIABLES.SWE\n",
    "dfs = []\n",
    "for i, r in df.iterrows():\n",
    "    print(i)\n",
    "    id = f\"{r['station_id']}:{r['state']}:SNTL\"\n",
    "    spd = SnotelPointData(station_id = id, name = 'Banner')\n",
    "    variables = [spd.ALLOWED_VARIABLES.SWE, spd.ALLOWED_VARIABLES.SOILMOISTURE2IN, spd.ALLOWED_VARIABLES.TEMP]\n",
    "\n",
    "    dfs.append(spd.get_hourly_data(pd.to_datetime(\"2016-10-01\"), pd.to_datetime(\"2025-06-01\"), variables))"
   ]
  },
  {
   "cell_type": "code",
   "execution_count": 7,
   "id": "1ab4fc56",
   "metadata": {},
   "outputs": [],
   "source": [
    "for data, id in zip(dfs, df['station_id']):\n",
    "    data.to_csv(f'/Users/ropa5718/github/data_sandbox/swe_errors/snotel/hourly/{id}_hourly_2016_2025.csv')"
   ]
  },
  {
   "cell_type": "code",
   "execution_count": null,
   "id": "64c75f38",
   "metadata": {},
   "outputs": [],
   "source": []
  }
 ],
 "metadata": {
  "kernelspec": {
   "display_name": "test",
   "language": "python",
   "name": "python3"
  },
  "language_info": {
   "codemirror_mode": {
    "name": "ipython",
    "version": 3
   },
   "file_extension": ".py",
   "mimetype": "text/x-python",
   "name": "python",
   "nbconvert_exporter": "python",
   "pygments_lexer": "ipython3",
   "version": "3.13.3"
  }
 },
 "nbformat": 4,
 "nbformat_minor": 5
}
