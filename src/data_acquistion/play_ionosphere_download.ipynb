{
 "cells": [
  {
   "cell_type": "code",
   "execution_count": 120,
   "id": "7dd03321",
   "metadata": {},
   "outputs": [],
   "source": [
    "import numpy as np\n",
    "import matplotlib.pyplot as plt\n",
    "from mpl_toolkits.axes_grid1 import make_axes_locatable\n",
    "import re\n",
    "import cartopy.crs as ccrs\n",
    "import wget\n",
    "import subprocess\n",
    "\n",
    "# Larger figure size\n",
    "fig_size = [14, 10]\n",
    "plt.rcParams['figure.figsize'] = fig_size\n",
    "\n",
    "# https://github.com/daniestevez/jupyter_notebooks/blob/master/IONEX.ipynb\n",
    "def parse_map(tecmap, exponent = -1):\n",
    "    tecmap = re.split('.*END OF TEC MAP', tecmap)[0]\n",
    "    return np.stack([np.fromstring(l, sep=' ') for l in re.split('.*LAT/LON1/LON2/DLON/H\\\\n',tecmap)[1:]])*10**exponent\n",
    "    \n",
    "def get_tecmaps(filename):\n",
    "    with open(filename) as f:\n",
    "        ionex = f.read()\n",
    "        return [parse_map(t) for t in ionex.split('START OF TEC MAP')[1:]]\n",
    "\n",
    "def get_tec(tecmap, lat, lon):\n",
    "    i = round((87.5 - lat)*(tecmap.shape[0]-1)/(2*87.5))\n",
    "    j = round((180 + lon)*(tecmap.shape[1]-1)/360)\n",
    "    return tecmap[i,j]\n",
    "\n",
    "def old_newformat_ionex_filename(year, day, HHMM = '0000', TYP = 'FIN', TSMP = '02H', CNT = 'GIM', centre = 'esa', zipped = True):\n",
    "    # TSMP could be '02H' for every 2 hours or '01D' for every day\n",
    "    # TYP could be 'FIN' for final or 'RAP' for rapid solution\n",
    "    # CNT could be GIM for global ionospheric TEC maps or ROT (rate of TEC index maps)\n",
    "    if zipped == True: ext = '.gz'\n",
    "    else: ext = ''\n",
    "    if year > 2022:\n",
    "        return f'IGS0OPS{TYP}_{year:04d}{day:03d}{HHMM}_01D_{TSMP}_{CNT}.INX{ext}'\n",
    "    else:\n",
    "        return '{}g{:03d}0.{:02d}i{}'.format(centre, day, year % 100, '.Z' if zipped else '')\n",
    "\n",
    "def ionex_ftp_path(year, day, centre = 'esa'):\n",
    "    if year >2022:\n",
    "        return 'https://cddis.nasa.gov/archive/gnss/products/ionex/{:04d}/{:03d}/{}'.format(year, day, ionex_filename(year, day))\n",
    "    else:\n",
    "        return 'ftp://cddis.gsfc.nasa.gov/gnss/products/ionex/{:04d}/{:03d}/{}'.format(year, day, ionex_filename(year, day, centre))\n",
    "\n",
    "def ionex_local_path(year, day, directory = '/tmp', zipped = False):\n",
    "    return directory + '/' + ionex_filename(year, day, zipped=zipped)\n",
    "\n",
    "import os\n",
    "def download_ionex(year, day, centre = 'esa', output_dir = '/tmp'):\n",
    "    os.system(f'wget --auth-no-challenge -P {output_dir} \"{ionex_ftp_path(year, day)}\"')\n",
    "    # wget.download(ionex_ftp_path(year, day, centre), output_dir)\n",
    "    subprocess.call(['gzip', '-d', ionex_local_path(year, day, output_dir, zipped = True)])\n",
    "    \n",
    "def plot_tec_map(tecmap):\n",
    "    proj = ccrs.PlateCarree()\n",
    "    f, ax = plt.subplots(1, 1, subplot_kw=dict(projection=proj))\n",
    "    ax.coastlines()\n",
    "    h = plt.imshow(tecmap, cmap='viridis', vmin=0, vmax=100, extent = (-180, 180, -87.5, 87.5), transform=proj)\n",
    "    plt.title('VTEC map')\n",
    "    divider = make_axes_locatable(ax)\n",
    "    ax_cb = divider.new_horizontal(size='5%', pad=0.1, axes_class=plt.Axes)\n",
    "    f.add_axes(ax_cb)\n",
    "    cb = plt.colorbar(h, cax=ax_cb)\n",
    "    plt.rc('text', usetex=True)\n",
    "    cb.set_label('TECU ($10^{16} \\\\mathrm{el}/\\\\mathrm{m}^2$)')"
   ]
  },
  {
   "cell_type": "code",
   "execution_count": 122,
   "id": "82bb5e5f",
   "metadata": {},
   "outputs": [
    {
     "ename": "TypeError",
     "evalue": "ionex_filename() missing 1 required positional argument: 'centre'",
     "output_type": "error",
     "traceback": [
      "\u001b[31m---------------------------------------------------------------------------\u001b[39m",
      "\u001b[31mTypeError\u001b[39m                                 Traceback (most recent call last)",
      "\u001b[36mCell\u001b[39m\u001b[36m \u001b[39m\u001b[32mIn[122]\u001b[39m\u001b[32m, line 1\u001b[39m\n\u001b[32m----> \u001b[39m\u001b[32m1\u001b[39m \u001b[43mionex_ftp_path\u001b[49m\u001b[43m(\u001b[49m\u001b[32;43m2024\u001b[39;49m\u001b[43m,\u001b[49m\u001b[43m \u001b[49m\u001b[32;43m1\u001b[39;49m\u001b[43m,\u001b[49m\u001b[43m \u001b[49m\u001b[33;43m'\u001b[39;49m\u001b[33;43mesa\u001b[39;49m\u001b[33;43m'\u001b[39;49m\u001b[43m)\u001b[49m\n",
      "\u001b[36mCell\u001b[39m\u001b[36m \u001b[39m\u001b[32mIn[120]\u001b[39m\u001b[32m, line 41\u001b[39m, in \u001b[36mionex_ftp_path\u001b[39m\u001b[34m(year, day, centre)\u001b[39m\n\u001b[32m     39\u001b[39m \u001b[38;5;28;01mdef\u001b[39;00m\u001b[38;5;250m \u001b[39m\u001b[34mionex_ftp_path\u001b[39m(year, day, centre = \u001b[33m'\u001b[39m\u001b[33mesa\u001b[39m\u001b[33m'\u001b[39m):\n\u001b[32m     40\u001b[39m     \u001b[38;5;28;01mif\u001b[39;00m year >\u001b[32m2022\u001b[39m:\n\u001b[32m---> \u001b[39m\u001b[32m41\u001b[39m         \u001b[38;5;28;01mreturn\u001b[39;00m \u001b[33m'\u001b[39m\u001b[33mhttps://cddis.nasa.gov/archive/gnss/products/ionex/\u001b[39m\u001b[38;5;132;01m{:04d}\u001b[39;00m\u001b[33m/\u001b[39m\u001b[38;5;132;01m{:03d}\u001b[39;00m\u001b[33m/\u001b[39m\u001b[38;5;132;01m{}\u001b[39;00m\u001b[33m'\u001b[39m.format(year, day, \u001b[43mionex_filename\u001b[49m\u001b[43m(\u001b[49m\u001b[43myear\u001b[49m\u001b[43m,\u001b[49m\u001b[43m \u001b[49m\u001b[43mday\u001b[49m\u001b[43m)\u001b[49m)\n\u001b[32m     42\u001b[39m     \u001b[38;5;28;01melse\u001b[39;00m:\n\u001b[32m     43\u001b[39m         \u001b[38;5;28;01mreturn\u001b[39;00m \u001b[33m'\u001b[39m\u001b[33mftp://cddis.gsfc.nasa.gov/gnss/products/ionex/\u001b[39m\u001b[38;5;132;01m{:04d}\u001b[39;00m\u001b[33m/\u001b[39m\u001b[38;5;132;01m{:03d}\u001b[39;00m\u001b[33m/\u001b[39m\u001b[38;5;132;01m{}\u001b[39;00m\u001b[33m'\u001b[39m.format(year, day, ionex_filename(year, day, centre))\n",
      "\u001b[31mTypeError\u001b[39m: ionex_filename() missing 1 required positional argument: 'centre'"
     ]
    }
   ],
   "source": [
    "ionex_ftp_path(2024, 1, 'esa')"
   ]
  },
  {
   "cell_type": "code",
   "execution_count": 133,
   "id": "c07fdcf1",
   "metadata": {},
   "outputs": [],
   "source": [
    "def ionex_filename(year, day, centre, zipped = True):\n",
    "    return '{}g{:03d}0.{:02d}i{}'.format(centre, day, year % 100, '.Z' if zipped else '')\n",
    "\n",
    "def ionex_ftp_path(year, day, centre):\n",
    "    # print('ftp://cddis.gsfc.nasa.gov/gnss/products/ionex/{:04d}/{:03d}/{}'.format(year, day, ionex_filename(year, day, centre)))\n",
    "    return 'https://cddis.nasa.gov/archive/gnss/products/ionex/{:04d}/{:03d}/{}'.format(year, day, ionex_filename(year, day, centre))\n",
    "    # return 'ftp://cddis.gsfc.nasa.gov/gnss/products/ionex/{:04d}/{:03d}/{}'.format(year, day, ionex_filename(year, day, centre))\n",
    "\n",
    "def ionex_local_path(year, day, centre = 'esa', directory = '/tmp', zipped = False):\n",
    "    return directory + '/' + ionex_filename(year, day, centre, zipped)\n",
    "    \n",
    "def download_ionex(year, day, centre = 'esa', output_dir = '/tmp'):\n",
    "    print(ionex_ftp_path(year, day, centre))\n",
    "    os.system(f'wget --auth-no-challenge -P {output_dir} \"{ionex_ftp_path(year, day, centre)}\"')\n",
    "\n",
    "    # wget.download(ionex_ftp_path(year, day, centre), output_dir)\n",
    "    subprocess.call(['gzip', '-d', ionex_local_path(year, day, centre, output_dir, zipped = True)])"
   ]
  },
  {
   "cell_type": "code",
   "execution_count": 36,
   "id": "a63aae7c",
   "metadata": {},
   "outputs": [],
   "source": [
    "# YYYY/DDD/AAAgDDD#.YYi.Z"
   ]
  },
  {
   "cell_type": "code",
   "execution_count": 47,
   "id": "3a4638d4",
   "metadata": {},
   "outputs": [
    {
     "data": {
      "text/plain": [
       "'ftp://cddis.gsfc.nasa.gov/gnss/products/ionex/2022/001/esag0010.22i.Z'"
      ]
     },
     "execution_count": 47,
     "metadata": {},
     "output_type": "execute_result"
    }
   ],
   "source": [
    "ionex_ftp_path(2022, 1, 'esa')"
   ]
  },
  {
   "cell_type": "code",
   "execution_count": 134,
   "id": "0b168926",
   "metadata": {},
   "outputs": [
    {
     "name": "stdout",
     "output_type": "stream",
     "text": [
      "https://cddis.nasa.gov/archive/gnss/products/ionex/2022/330/esag3300.22i.Z\n"
     ]
    },
    {
     "name": "stderr",
     "output_type": "stream",
     "text": [
      "--2025-06-03 11:04:33--  https://cddis.nasa.gov/archive/gnss/products/ionex/2022/330/esag3300.22i.Z\n",
      "Resolving cddis.nasa.gov (cddis.nasa.gov)... 198.118.199.52, 2001:4d0:241a:442::52\n",
      "Connecting to cddis.nasa.gov (cddis.nasa.gov)|198.118.199.52|:443... connected.\n",
      "HTTP request sent, awaiting response... 302 Found\n",
      "Location: https://urs.earthdata.nasa.gov/oauth/authorize?client_id=gDQnv1IO0j9O2xXdwS8KMQ&response_type=code&redirect_uri=https%3A%2F%2Fcddis.nasa.gov%2Fproxyauth&state=aHR0cDovL2NkZGlzLm5hc2EuZ292L2FyY2hpdmUvZ25zcy9wcm9kdWN0cy9pb25leC8yMDIyLzMzMC9lc2FnMzMwMC4yMmkuWg [following]\n",
      "--2025-06-03 11:04:34--  https://urs.earthdata.nasa.gov/oauth/authorize?client_id=gDQnv1IO0j9O2xXdwS8KMQ&response_type=code&redirect_uri=https%3A%2F%2Fcddis.nasa.gov%2Fproxyauth&state=aHR0cDovL2NkZGlzLm5hc2EuZ292L2FyY2hpdmUvZ25zcy9wcm9kdWN0cy9pb25leC8yMDIyLzMzMC9lc2FnMzMwMC4yMmkuWg\n",
      "Resolving urs.earthdata.nasa.gov (urs.earthdata.nasa.gov)... 198.118.243.33, 2001:4d0:241a:4081::89\n",
      "Connecting to urs.earthdata.nasa.gov (urs.earthdata.nasa.gov)|198.118.243.33|:443... connected.\n",
      "HTTP request sent, awaiting response... 302 Found\n",
      "Location: https://cddis.nasa.gov/proxyauth?code=QqB-E8SjChwZUjJyCO-3lOMwOK_vlHgNQuVN9NmV-s1sgZcY8ik49c4y8D3F2QR86X9MdvGyI_kKmnQxZcW6TgT7a_KWAgAyYzjS1svMhLohJIQ&state=aHR0cDovL2NkZGlzLm5hc2EuZ292L2FyY2hpdmUvZ25zcy9wcm9kdWN0cy9pb25leC8yMDIyLzMzMC9lc2FnMzMwMC4yMmkuWg [following]\n",
      "--2025-06-03 11:04:35--  https://cddis.nasa.gov/proxyauth?code=QqB-E8SjChwZUjJyCO-3lOMwOK_vlHgNQuVN9NmV-s1sgZcY8ik49c4y8D3F2QR86X9MdvGyI_kKmnQxZcW6TgT7a_KWAgAyYzjS1svMhLohJIQ&state=aHR0cDovL2NkZGlzLm5hc2EuZ292L2FyY2hpdmUvZ25zcy9wcm9kdWN0cy9pb25leC8yMDIyLzMzMC9lc2FnMzMwMC4yMmkuWg\n",
      "Connecting to cddis.nasa.gov (cddis.nasa.gov)|198.118.199.52|:443... connected.\n",
      "HTTP request sent, awaiting response... 302 Found\n",
      "Location: http://cddis.nasa.gov/archive/gnss/products/ionex/2022/330/esag3300.22i.Z [following]\n",
      "URL transformed to HTTPS due to an HSTS policy\n",
      "--2025-06-03 11:04:36--  https://cddis.nasa.gov/archive/gnss/products/ionex/2022/330/esag3300.22i.Z\n",
      "Connecting to cddis.nasa.gov (cddis.nasa.gov)|198.118.199.52|:443... connected.\n",
      "HTTP request sent, awaiting response... 200 OK\n",
      "Length: 171821 (168K) [application/x-compress]\n",
      "Saving to: ‘/Users/rdcrlzh1/Documents/SWE_error_analysis/local/ionosphere/esag3300.22i.Z.2’\n",
      "\n",
      "     0K .......... .......... .......... .......... .......... 29%  134K 1s\n",
      "    50K .......... .......... .......... .......... .......... 59%  387K 0s\n",
      "   100K .......... .......... .......... .......... .......... 89%  398K 0s\n",
      "   150K .......... .......                                    100%  122M=0.6s\n",
      "\n",
      "2025-06-03 11:04:37 (268 KB/s) - ‘/Users/rdcrlzh1/Documents/SWE_error_analysis/local/ionosphere/esag3300.22i.Z.2’ saved [171821/171821]\n",
      "\n",
      "gzip: /Users/rdcrlzh1/Documents/SWE_error_analysis/local/ionosphere/esag3300.22i already exists -- skipping\n"
     ]
    }
   ],
   "source": [
    "download_ionex(2022, 330, output_dir='/Users/rdcrlzh1/Documents/SWE_error_analysis/local/ionosphere')"
   ]
  },
  {
   "cell_type": "code",
   "execution_count": 107,
   "id": "5c537f8a",
   "metadata": {},
   "outputs": [
    {
     "data": {
      "text/plain": [
       "'esag0010.23i.Z'"
      ]
     },
     "execution_count": 107,
     "metadata": {},
     "output_type": "execute_result"
    }
   ],
   "source": [
    "year = 2023\n",
    "day = 1\n",
    "zipped = True\n",
    "ext = '.gz' if zipped == True else ''\n",
    "HHMM = '0000'\n",
    "TYP = 'FIN'\n",
    "TSMP = '02H'\n",
    "CNT = 'GIM'\n",
    "centre = 'esa'\n",
    "\n",
    "'{}g{:03d}0.{:02d}i{}'.format(centre, day, year % 100, '.Z' if zipped else '')\n",
    "    "
   ]
  },
  {
   "cell_type": "code",
   "execution_count": 109,
   "id": "823f43fe",
   "metadata": {},
   "outputs": [
    {
     "data": {
      "text/plain": [
       "'esag0010.23i.gz'"
      ]
     },
     "execution_count": 109,
     "metadata": {},
     "output_type": "execute_result"
    }
   ],
   "source": [
    "f'{centre}g{day:03d}0.{year%100:02d}i{ext}'"
   ]
  },
  {
   "cell_type": "code",
   "execution_count": 155,
   "id": "42000370",
   "metadata": {},
   "outputs": [],
   "source": [
    "from pathlib import Path\n",
    "\n",
    "def get_ionex_filename(year, day, old_format, HHMM = '0000', TYP = 'FIN', TSMP = '02H', CNT = 'GIM', cente = 'esa', zipped = True):\n",
    "    if old_format:\n",
    "        ext = '.Z' if zipped else ''\n",
    "        return f'{centre}g{day:03d}0.{year%100:02d}i{ext}'\n",
    "    else:\n",
    "        ext = '.gz' if zipped else ''\n",
    "        return f'IGS0OPS{TYP}_{year:04d}{day:03d}{HHMM}_01D_{TSMP}_{CNT}.INX{ext}'\n",
    "\n",
    "from urllib.parse import urljoin\n",
    "import shutil\n",
    "def download_ionex(year, day, output_dir, center = 'esa'):\n",
    "    if isinstance(output_dir, str): output_dir = Path(output_dir)\n",
    "    old_format = True if year <= 2022 and day <= 330 else False\n",
    "    \n",
    "    main_https = 'https://cddis.nasa.gov/archive/gnss/products/ionex/'\n",
    "    filename = get_ionex_filename(year, day, old_format)\n",
    "    https_fp = urljoin(main_https, f'{year:04d}/{day:03d}/{filename}')\n",
    "    print(https_fp)\n",
    "    os.system(f'wget --auth-no-challenge -P {output_dir} \"{https_fp}\"')\n",
    "    subprocess.call(['gzip', '-d', output_dir.joinpath(filename)])\n",
    "\n",
    "    if old_format:\n",
    "        old_format_fp = output_dir.joinpath(get_ionex_filename(year, day, old_format, zipped = False))\n",
    "        new_format_fp = output_dir.joinpath(get_ionex_filename(year, day, old_format = False, zipped = False))\n",
    "        shutil.move(old_format_fp, new_format_fp)"
   ]
  },
  {
   "cell_type": "code",
   "execution_count": null,
   "id": "72d6e879",
   "metadata": {},
   "outputs": [],
   "source": [
    "# https://cddis.nasa.gov/archive/gnss/products/ionex/2016/001/esag0010.16i.Z\n",
    "# https://cddis.nasa.gov/archive/gnss/products/ionex/2016/000/esag0000.16i.Z"
   ]
  },
  {
   "cell_type": "code",
   "execution_count": 156,
   "id": "6b3f696b",
   "metadata": {},
   "outputs": [
    {
     "name": "stdout",
     "output_type": "stream",
     "text": [
      "https://cddis.nasa.gov/archive/gnss/products/ionex/2016/001/esag0010.16i.Z\n"
     ]
    },
    {
     "name": "stderr",
     "output_type": "stream",
     "text": [
      "--2025-06-03 11:17:21--  https://cddis.nasa.gov/archive/gnss/products/ionex/2016/001/esag0010.16i.Z\n",
      "Resolving cddis.nasa.gov (cddis.nasa.gov)... 198.118.199.52, 2001:4d0:241a:442::52\n",
      "Connecting to cddis.nasa.gov (cddis.nasa.gov)|198.118.199.52|:443... connected.\n",
      "HTTP request sent, awaiting response... 302 Found\n",
      "Location: https://urs.earthdata.nasa.gov/oauth/authorize?client_id=gDQnv1IO0j9O2xXdwS8KMQ&response_type=code&redirect_uri=https%3A%2F%2Fcddis.nasa.gov%2Fproxyauth&state=aHR0cDovL2NkZGlzLm5hc2EuZ292L2FyY2hpdmUvZ25zcy9wcm9kdWN0cy9pb25leC8yMDE2LzAwMS9lc2FnMDAxMC4xNmkuWg [following]\n",
      "--2025-06-03 11:17:21--  https://urs.earthdata.nasa.gov/oauth/authorize?client_id=gDQnv1IO0j9O2xXdwS8KMQ&response_type=code&redirect_uri=https%3A%2F%2Fcddis.nasa.gov%2Fproxyauth&state=aHR0cDovL2NkZGlzLm5hc2EuZ292L2FyY2hpdmUvZ25zcy9wcm9kdWN0cy9pb25leC8yMDE2LzAwMS9lc2FnMDAxMC4xNmkuWg\n",
      "Resolving urs.earthdata.nasa.gov (urs.earthdata.nasa.gov)... 198.118.243.33, 2001:4d0:241a:4081::89\n",
      "Connecting to urs.earthdata.nasa.gov (urs.earthdata.nasa.gov)|198.118.243.33|:443... connected.\n",
      "HTTP request sent, awaiting response... 302 Found\n",
      "Location: https://cddis.nasa.gov/proxyauth?code=uqWLYawP8i_r8WwOD_Y4JG4NCUQGDYoN_2LxlQ7ioV6MBEcKy9-3AaCVJZoUBTTLoc2mYnCPEAhLOgrzPm9iaEilXjqJ2gFAq-dE0Ntt8DRAVO0&state=aHR0cDovL2NkZGlzLm5hc2EuZ292L2FyY2hpdmUvZ25zcy9wcm9kdWN0cy9pb25leC8yMDE2LzAwMS9lc2FnMDAxMC4xNmkuWg [following]\n",
      "--2025-06-03 11:17:22--  https://cddis.nasa.gov/proxyauth?code=uqWLYawP8i_r8WwOD_Y4JG4NCUQGDYoN_2LxlQ7ioV6MBEcKy9-3AaCVJZoUBTTLoc2mYnCPEAhLOgrzPm9iaEilXjqJ2gFAq-dE0Ntt8DRAVO0&state=aHR0cDovL2NkZGlzLm5hc2EuZ292L2FyY2hpdmUvZ25zcy9wcm9kdWN0cy9pb25leC8yMDE2LzAwMS9lc2FnMDAxMC4xNmkuWg\n",
      "Connecting to cddis.nasa.gov (cddis.nasa.gov)|198.118.199.52|:443... connected.\n",
      "HTTP request sent, awaiting response... 302 Found\n",
      "Location: http://cddis.nasa.gov/archive/gnss/products/ionex/2016/001/esag0010.16i.Z [following]\n",
      "URL transformed to HTTPS due to an HSTS policy\n",
      "--2025-06-03 11:17:23--  https://cddis.nasa.gov/archive/gnss/products/ionex/2016/001/esag0010.16i.Z\n",
      "Connecting to cddis.nasa.gov (cddis.nasa.gov)|198.118.199.52|:443... connected.\n",
      "HTTP request sent, awaiting response... 200 OK\n",
      "Length: 154091 (150K) [application/x-compress]\n",
      "Saving to: ‘/Users/rdcrlzh1/Documents/SWE_error_analysis/local/ionosphere/esag0010.16i.Z’\n",
      "\n",
      "     0K .......... .......... .......... .......... .......... 33%  135K 1s\n",
      "    50K .......... .......... .......... .......... .......... 66%  377K 0s\n",
      "   100K .......... .......... .......... .......... .......... 99%  408K 0s\n",
      "   150K                                                       100% 9.59K=0.6s\n",
      "\n",
      "2025-06-03 11:17:24 (241 KB/s) - ‘/Users/rdcrlzh1/Documents/SWE_error_analysis/local/ionosphere/esag0010.16i.Z’ saved [154091/154091]\n",
      "\n"
     ]
    }
   ],
   "source": [
    "download_ionex(2016, 1, '/Users/rdcrlzh1/Documents/SWE_error_analysis/local/ionosphere')"
   ]
  },
  {
   "cell_type": "code",
   "execution_count": null,
   "id": "f732ae74",
   "metadata": {},
   "outputs": [],
   "source": []
  }
 ],
 "metadata": {
  "kernelspec": {
   "display_name": "test",
   "language": "python",
   "name": "python3"
  },
  "language_info": {
   "codemirror_mode": {
    "name": "ipython",
    "version": 3
   },
   "file_extension": ".py",
   "mimetype": "text/x-python",
   "name": "python",
   "nbconvert_exporter": "python",
   "pygments_lexer": "ipython3",
   "version": "3.13.3"
  }
 },
 "nbformat": 4,
 "nbformat_minor": 5
}
