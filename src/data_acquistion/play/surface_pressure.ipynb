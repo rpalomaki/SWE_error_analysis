{
 "cells": [
  {
   "cell_type": "code",
   "execution_count": null,
   "id": "538f3e4f",
   "metadata": {},
   "outputs": [],
   "source": [
    "# import xarray as xr\n",
    "# from pathlib import Path\n",
    "# import pandas as pd\n",
    "\n",
    "# dates = [pd.to_datetime(f.stem.split('.')[-1]) for f in sorted(list(Path('/data/pressure').glob('*.nc4')))]"
   ]
  },
  {
   "cell_type": "code",
   "execution_count": null,
   "id": "ce50d9ef",
   "metadata": {},
   "outputs": [],
   "source": [
    "# dates = [pd.to_datetime(f.stem.split('.')[-1]) for f in sorted(list(Path('/data/pressure').glob('*.nc4')))]\n",
    "\n",
    "# pd.Series(dates, index = dates).sort_values()['2022-09-01':'2023-07-01'].diff().plot()"
   ]
  },
  {
   "cell_type": "markdown",
   "id": "9c9eb3da",
   "metadata": {},
   "source": []
  },
  {
   "cell_type": "code",
   "execution_count": null,
   "id": "188997a7",
   "metadata": {},
   "outputs": [],
   "source": [
    "# import xarray as xr\n",
    "# from pathlib import Path\n",
    "\n",
    "# fps = sorted(list(Path('/data/pressure/').glob('*.nc4')))\n",
    "\n",
    "# from tqdm import tqdm\n",
    "# ams = []\n",
    "# pms = []\n",
    "# for fp in tqdm(fps[:10]):\n",
    "#     ams.append(xr.open_dataset(fp)['PS'].isel(time = 12))\n",
    "#     pms.append(xr.open_dataset(fp)['PS'].isel(time = 0))\n",
    "\n",
    "# ams = xr.concat(ams, 'time')\n",
    "# ams.to_netcdf('/data/pressure/ams.nc')\n",
    "\n",
    "# pms = xr.concat(pms, 'time')\n",
    "# pms.to_netcdf('/data/pressure/pms.nc')"
   ]
  }
 ],
 "metadata": {
  "language_info": {
   "name": "python"
  }
 },
 "nbformat": 4,
 "nbformat_minor": 5
}
