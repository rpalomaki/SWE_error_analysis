{
 "cells": [
  {
   "cell_type": "code",
   "execution_count": 21,
   "id": "7dd03321",
   "metadata": {},
   "outputs": [],
   "source": [
    "import numpy as np\n",
    "import matplotlib.pyplot as plt\n",
    "from mpl_toolkits.axes_grid1 import make_axes_locatable\n",
    "import re\n",
    "import cartopy.crs as ccrs\n",
    "import wget\n",
    "import subprocess\n",
    "\n",
    "# Larger figure size\n",
    "fig_size = [14, 10]\n",
    "plt.rcParams['figure.figsize'] = fig_size\n",
    "\n",
    "# https://github.com/daniestevez/jupyter_notebooks/blob/master/IONEX.ipynb\n",
    "def parse_map(tecmap, exponent = -1):\n",
    "    tecmap = re.split('.*END OF TEC MAP', tecmap)[0]\n",
    "    return np.stack([np.fromstring(l, sep=' ') for l in re.split('.*LAT/LON1/LON2/DLON/H\\\\n',tecmap)[1:]])*10**exponent\n",
    "    \n",
    "def get_tecmaps(filename):\n",
    "    with open(filename) as f:\n",
    "        ionex = f.read()\n",
    "        return [parse_map(t) for t in ionex.split('START OF TEC MAP')[1:]]\n",
    "\n",
    "def get_tec(tecmap, lat, lon):\n",
    "    i = round((87.5 - lat)*(tecmap.shape[0]-1)/(2*87.5))\n",
    "    j = round((180 + lon)*(tecmap.shape[1]-1)/360)\n",
    "    return tecmap[i,j]\n",
    "\n",
    "def ionex_filename(year, day, HHMM = '0000', TYP = 'FIN', TSMP = '02H', CNT = 'GIM', centre = 'esa', zipped = True):\n",
    "    # TSMP could be '02H' for every 2 hours or '01D' for every day\n",
    "    # TYP could be 'FIN' for final or 'RAP' for rapid solution\n",
    "    # CNT could be GIM for global ionospheric TEC maps or ROT (rate of TEC index maps)\n",
    "    if zipped == True: ext = '.gz'\n",
    "    else: ext = ''\n",
    "    if year > 2022:\n",
    "        return f'IGS0OPS{TYP}_{year:04d}{day:03d}{HHMM}_01D_{TSMP}_{CNT}.INX{ext}'\n",
    "    else:\n",
    "        return '{}g{:03d}0.{:02d}i{}'.format(centre, day, year % 100, '.Z' if zipped else '')\n",
    "\n",
    "def ionex_ftp_path(year, day, centre = 'esa'):\n",
    "    if year >2022:\n",
    "        return 'https://cddis.nasa.gov/archive/gnss/products/ionex/{:04d}/{:03d}/{}'.format(year, day, ionex_filename(year, day))\n",
    "    else:\n",
    "        return 'ftp://cddis.gsfc.nasa.gov/gnss/products/ionex/{:04d}/{:03d}/{}'.format(year, day, ionex_filename(year, day, centre))\n",
    "\n",
    "def ionex_local_path(year, day, directory = '/tmp', zipped = False):\n",
    "    return directory + '/' + ionex_filename(year, day, zipped=zipped)\n",
    "\n",
    "import os\n",
    "def download_ionex(year, day, centre = 'esa', output_dir = '/tmp'):\n",
    "    os.system(f'wget --auth-no-challenge -P {output_dir} \"{ionex_ftp_path(year, day)}\"')\n",
    "    # wget.download(ionex_ftp_path(year, day, centre), output_dir)\n",
    "    subprocess.call(['gzip', '-d', ionex_local_path(year, day, output_dir, zipped = True)])\n",
    "    \n",
    "def plot_tec_map(tecmap):\n",
    "    proj = ccrs.PlateCarree()\n",
    "    f, ax = plt.subplots(1, 1, subplot_kw=dict(projection=proj))\n",
    "    ax.coastlines()\n",
    "    h = plt.imshow(tecmap, cmap='viridis', vmin=0, vmax=100, extent = (-180, 180, -87.5, 87.5), transform=proj)\n",
    "    plt.title('VTEC map')\n",
    "    divider = make_axes_locatable(ax)\n",
    "    ax_cb = divider.new_horizontal(size='5%', pad=0.1, axes_class=plt.Axes)\n",
    "    f.add_axes(ax_cb)\n",
    "    cb = plt.colorbar(h, cax=ax_cb)\n",
    "    plt.rc('text', usetex=True)\n",
    "    cb.set_label('TECU ($10^{16} \\\\mathrm{el}/\\\\mathrm{m}^2$)')"
   ]
  },
  {
   "cell_type": "code",
   "execution_count": 51,
   "id": "c07fdcf1",
   "metadata": {},
   "outputs": [],
   "source": [
    "def ionex_filename(year, day, centre, zipped = True):\n",
    "    return '{}g{:03d}0.{:02d}i{}'.format(centre, day, year % 100, '.Z' if zipped else '')\n",
    "\n",
    "def ionex_ftp_path(year, day, centre):\n",
    "    # print('ftp://cddis.gsfc.nasa.gov/gnss/products/ionex/{:04d}/{:03d}/{}'.format(year, day, ionex_filename(year, day, centre)))\n",
    "    return 'https://cddis.nasa.gov/archive/gnss/products/ionex/{:04d}/{:03d}/{}'.format(year, day, ionex_filename(year, day, centre))\n",
    "    # return 'ftp://cddis.gsfc.nasa.gov/gnss/products/ionex/{:04d}/{:03d}/{}'.format(year, day, ionex_filename(year, day, centre))\n",
    "\n",
    "def ionex_local_path(year, day, centre = 'esa', directory = '/tmp', zipped = False):\n",
    "    return directory + '/' + ionex_filename(year, day, centre, zipped)\n",
    "    \n",
    "def download_ionex(year, day, centre = 'esa', output_dir = '/tmp'):\n",
    "    wget.download(ionex_ftp_path(year, day, centre), output_dir)\n",
    "    subprocess.call(['gzip', '-d', ionex_local_path(year, day, centre, output_dir, zipped = True)])"
   ]
  },
  {
   "cell_type": "code",
   "execution_count": 36,
   "id": "a63aae7c",
   "metadata": {},
   "outputs": [],
   "source": [
    "# YYYY/DDD/AAAgDDD#.YYi.Z"
   ]
  },
  {
   "cell_type": "code",
   "execution_count": 47,
   "id": "3a4638d4",
   "metadata": {},
   "outputs": [
    {
     "data": {
      "text/plain": [
       "'ftp://cddis.gsfc.nasa.gov/gnss/products/ionex/2022/001/esag0010.22i.Z'"
      ]
     },
     "execution_count": 47,
     "metadata": {},
     "output_type": "execute_result"
    }
   ],
   "source": [
    "ionex_ftp_path(2022, 1, 'esa')"
   ]
  },
  {
   "cell_type": "code",
   "execution_count": 52,
   "id": "0b168926",
   "metadata": {},
   "outputs": [
    {
     "name": "stderr",
     "output_type": "stream",
     "text": [
      "gzip: /Users/rdcrlzh1/Documents/SWE_error_analysis/local/ionosphere/esag0010.22i.Z: not in gzip format\n"
     ]
    }
   ],
   "source": [
    "download_ionex(2022, 1, output_dir='/Users/rdcrlzh1/Documents/SWE_error_analysis/local/ionosphere')"
   ]
  },
  {
   "cell_type": "code",
   "execution_count": 7,
   "id": "1d1c9c4f",
   "metadata": {},
   "outputs": [
    {
     "data": {
      "text/plain": [
       "'https://cddis.nasa.gov/archive/gnss/products/ionex/2024/001/IGS0OPSFIN_20240010000_01D_02H_GIM.INX.gz'"
      ]
     },
     "execution_count": 7,
     "metadata": {},
     "output_type": "execute_result"
    }
   ],
   "source": [
    "ionex_ftp_path(2024, 1)"
   ]
  }
 ],
 "metadata": {
  "kernelspec": {
   "display_name": "test",
   "language": "python",
   "name": "python3"
  },
  "language_info": {
   "codemirror_mode": {
    "name": "ipython",
    "version": 3
   },
   "file_extension": ".py",
   "mimetype": "text/x-python",
   "name": "python",
   "nbconvert_exporter": "python",
   "pygments_lexer": "ipython3",
   "version": "3.13.3"
  }
 },
 "nbformat": 4,
 "nbformat_minor": 5
}
